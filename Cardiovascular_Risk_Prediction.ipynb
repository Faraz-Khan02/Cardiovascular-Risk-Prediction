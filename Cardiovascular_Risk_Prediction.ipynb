{
  "nbformat": 4,
  "nbformat_minor": 0,
  "metadata": {
    "colab": {
      "private_outputs": true,
      "provenance": [],
      "collapsed_sections": [
        "vncDsAP0Gaoa",
        "FJNUwmbgGyua",
        "w6K7xa23Elo4",
        "yQaldy8SH6Dl",
        "mDgbUHAGgjLW",
        "O_i_v8NEhb9l",
        "HhfV-JJviCcP",
        "Y3lxredqlCYt",
        "3RnN4peoiCZX",
        "x71ZqKXriCWQ",
        "7hBIi_osiCS2",
        "JlHwYmJAmNHm",
        "35m5QtbWiB9F",
        "PoPl-ycgm1ru",
        "H0kj-8xxnORC",
        "nA9Y7ga8ng1Z",
        "PBTbrJXOngz2",
        "u3PMJOP6ngxN",
        "dauF4eBmngu3",
        "bKJF3rekwFvQ",
        "MSa1f5Uengrz",
        "GF8Ens_Soomf",
        "0wOQAZs5pc--",
        "K5QZ13OEpz2H",
        "lQ7QKXXCp7Bj",
        "448CDAPjqfQr",
        "KSlN3yHqYklG",
        "t6dVpIINYklI",
        "ijmpgYnKYklI",
        "-JiQyfWJYklI",
        "EM7whBJCYoAo",
        "fge-S5ZAYoAp",
        "85gYPyotYoAp",
        "RoGjAbkUYoAp",
        "4Of9eVA-YrdM",
        "iky9q4vBYrdO",
        "F6T5p64dYrdO",
        "y-Ehk30pYrdP",
        "bamQiAODYuh1",
        "QHF8YVU7Yuh3",
        "GwzvFGzlYuh3",
        "qYpmQ266Yuh3",
        "OH-pJp9IphqM",
        "bbFf2-_FphqN",
        "_ouA3fa0phqN",
        "Seke61FWphqN",
        "PIIx-8_IphqN",
        "t27r6nlMphqO",
        "r2jJGEOYphqO",
        "b0JNsNcRphqO",
        "BZR9WyysphqO",
        "jj7wYXLtphqO",
        "eZrbJ2SmphqO",
        "rFu4xreNphqO",
        "YJ55k-q6phqO",
        "gCFgpxoyphqP",
        "OVtJsKN_phqQ",
        "lssrdh5qphqQ",
        "U2RJ9gkRphqQ",
        "1M8mcRywphqQ",
        "tgIPom80phqQ",
        "JMzcOPDDphqR",
        "x-EpHcCOp1ci",
        "X_VqEhTip1ck",
        "8zGJKyg5p1ck",
        "PVzmfK_Ep1ck",
        "n3dbpmDWp1ck",
        "ylSl6qgtp1ck",
        "ZWILFDl5p1ck",
        "M7G43BXep1ck",
        "Ag9LCva-p1cl",
        "E6MkPsBcp1cl",
        "2cELzS2fp1cl",
        "3MPXvC8up1cl",
        "NC_X3p0fY2L0",
        "UV0SzAkaZNRQ",
        "YPEH6qLeZNRQ",
        "q29F0dvdveiT",
        "EXh0U9oCveiU",
        "22aHeOlLveiV",
        "g-ATYxFrGrvw",
        "Yfr_Vlr8HBkt",
        "8yEUt7NnHlrM",
        "tEA2Xm5dHt1r",
        "I79__PHVH19G",
        "Ou-I18pAyIpj",
        "fF3858GYyt-u",
        "4_0_7-oCpUZd",
        "hwyV_J3ipUZe",
        "3yB-zSqbpUZe",
        "dEUvejAfpUZe",
        "Fd15vwWVpUZf",
        "bn_IUdTipZyH",
        "49K5P_iCpZyH",
        "Nff-vKELpZyI",
        "kLW572S8pZyI",
        "dWbDXHzopZyI",
        "yLjJCtPM0KBk",
        "xiyOF9F70UgQ",
        "7wuGOrhz0itI",
        "id1riN9m0vUs",
        "578E2V7j08f6",
        "89xtkJwZ18nB",
        "67NQN5KX2AMe",
        "Iwf50b-R2tYG",
        "GMQiZwjn3iu7",
        "WVIkgGqN3qsr",
        "XkPnILGE3zoT",
        "Hlsf0x5436Go",
        "mT9DMSJo4nBL",
        "c49ITxTc407N",
        "OeJFEK0N496M",
        "9ExmJH0g5HBk",
        "cJNqERVU536h",
        "k5UmGsbsOxih",
        "T0VqWOYE6DLQ",
        "qBMux9mC6MCf",
        "-oLEiFgy-5Pf",
        "C74aWNz2AliB",
        "2DejudWSA-a0",
        "pEMng2IbBLp7",
        "rAdphbQ9Bhjc",
        "TNVZ9zx19K6k",
        "nqoHp30x9hH9",
        "rMDnDkt2B6du",
        "yiiVWRdJDDil",
        "1UUpS68QDMuG",
        "kexQrXU-DjzY",
        "T5CmagL3EC8N",
        "BhH2vgX9EjGr",
        "qjKvONjwE8ra",
        "P1XJ9OREExlT",
        "VFOzZv6IFROw",
        "TIqpNgepFxVj",
        "VfCC591jGiD4",
        "OB4l2ZhMeS1U",
        "ArJBuiUVfxKd",
        "4qY1EAkEfxKe",
        "PiV4Ypx8fxKe",
        "TfvqoZmBfxKf",
        "dJ2tPlVmpsJ0",
        "JWYfwnehpsJ1",
        "-jK_YjpMpsJ2",
        "HAih1iBOpsJ2",
        "zVGeBEFhpsJ2",
        "bmKjuQ-FpsJ3",
        "Fze-IPXLpx6K",
        "7AN1z2sKpx6M",
        "9PIHJqyupx6M",
        "_-qAgymDpx6N",
        "Z-hykwinpx6N",
        "h_CCil-SKHpo",
        "cBFFvTBNJzUa",
        "HvGl1hHyA_VK",
        "EyNgTHvd2WFk",
        "KH5McJBi2d8v",
        "iW_Lq9qf2h6X",
        "-Kee-DAl2viO",
        "gCX9965dhzqZ",
        "gIfDvo9L0UH2"
      ],
      "include_colab_link": true
    },
    "kernelspec": {
      "name": "python3",
      "display_name": "Python 3"
    },
    "language_info": {
      "name": "python"
    }
  },
  "cells": [
    {
      "cell_type": "markdown",
      "metadata": {
        "id": "view-in-github",
        "colab_type": "text"
      },
      "source": [
        "<a href=\"https://colab.research.google.com/github/Faraz-Khan02/Cardiovascular-Risk-Prediction/blob/main/Cardiovascular_Risk_Prediction.ipynb\" target=\"_parent\"><img src=\"https://colab.research.google.com/assets/colab-badge.svg\" alt=\"Open In Colab\"/></a>"
      ]
    },
    {
      "cell_type": "markdown",
      "source": [
        "# **Project Name**    - **Cardiovascular Risk Prediction**\n",
        "\n"
      ],
      "metadata": {
        "id": "vncDsAP0Gaoa"
      }
    },
    {
      "cell_type": "markdown",
      "source": [
        "##### **Project Type**    - Classification\n",
        "##### **Contribution**    - Individual\n",
        "##### **Name -** Faraz Faisal Khan\n"
      ],
      "metadata": {
        "id": "beRrZCGUAJYm"
      }
    },
    {
      "cell_type": "markdown",
      "source": [
        "# **Project Summary -**"
      ],
      "metadata": {
        "id": "FJNUwmbgGyua"
      }
    },
    {
      "cell_type": "markdown",
      "source": [
        "Write the summary here within 500-600 words."
      ],
      "metadata": {
        "id": "F6v_1wHtG2nS"
      }
    },
    {
      "cell_type": "markdown",
      "source": [
        "# **GitHub Link -**"
      ],
      "metadata": {
        "id": "w6K7xa23Elo4"
      }
    },
    {
      "cell_type": "markdown",
      "source": [
        "Provide your GitHub Link here."
      ],
      "metadata": {
        "id": "h1o69JH3Eqqn"
      }
    },
    {
      "cell_type": "markdown",
      "source": [
        "# **Problem Statement**\n"
      ],
      "metadata": {
        "id": "yQaldy8SH6Dl"
      }
    },
    {
      "cell_type": "markdown",
      "source": [
        "**The dataset is from an ongoing cardiovascular study on residents of the town of Framingham, Massachusetts.\n",
        "The classification goal is to predict whether the patient has a 10-year risk of future coronary heart disease (CHD).\n",
        "The dataset provides the patients’ information. It includes over 4,000 records and 15 attributes. Variables Each attribute is a potential risk factor. There are both demographic, behavioral, and medical risk factors.** "
      ],
      "metadata": {
        "id": "DpeJGUA3kjGy"
      }
    },
    {
      "cell_type": "markdown",
      "source": [
        "# ***Let's Begin !***"
      ],
      "metadata": {
        "id": "O_i_v8NEhb9l"
      }
    },
    {
      "cell_type": "markdown",
      "source": [
        "### Import Libraries"
      ],
      "metadata": {
        "id": "Y3lxredqlCYt"
      }
    },
    {
      "cell_type": "code",
      "source": [
        "# Import Libraries\n",
        "import pandas as pd\n",
        "import numpy as np\n",
        "from sklearn.model_selection import train_test_split, StratifiedKFold, GridSearchCV\n",
        "import seaborn as sns\n",
        "import matplotlib.pyplot as plt\n",
        "import warnings\n",
        "from scipy.stats import chi2, chi2_contingency, f_oneway\n",
        "from statsmodels.stats.outliers_influence import variance_inflation_factor\n",
        "from sklearn.svm import SVC\n",
        "from sklearn.metrics import roc_auc_score, recall_score, precision_score,\\\n",
        " accuracy_score, roc_curve, auc, classification_report, confusion_matrix\n",
        "from xgboost import XGBClassifier\n",
        "from imblearn.over_sampling import RandomOverSampler, SMOTE\n",
        "from sklearn.linear_model import LogisticRegression\n",
        "from sklearn.ensemble import RandomForestClassifier\n",
        "from sklearn.preprocessing import StandardScaler, MinMaxScaler\n",
        "from sklearn.impute import KNNImputer, SimpleImputer\n",
        "from sklearn.neighbors import KNeighborsClassifier"
      ],
      "metadata": {
        "id": "M8Vqi-pPk-HR"
      },
      "execution_count": null,
      "outputs": []
    },
    {
      "cell_type": "markdown",
      "source": [
        "### Dataset Loading"
      ],
      "metadata": {
        "id": "3RnN4peoiCZX"
      }
    },
    {
      "cell_type": "code",
      "source": [
        "# Mounting Drive\n",
        "from google.colab import drive\n",
        "drive.mount('/content/drive')"
      ],
      "metadata": {
        "id": "77WvAdNCuLQN"
      },
      "execution_count": null,
      "outputs": []
    },
    {
      "cell_type": "code",
      "source": [
        "# Load Dataset\n",
        "df = pd.read_csv(\"/content/drive/MyDrive/Capstone Project-3/data_cardiovascular_risk.csv\")"
      ],
      "metadata": {
        "id": "4CkvbW_SlZ_R"
      },
      "execution_count": null,
      "outputs": []
    },
    {
      "cell_type": "markdown",
      "source": [
        "### Dataset First View"
      ],
      "metadata": {
        "id": "x71ZqKXriCWQ"
      }
    },
    {
      "cell_type": "code",
      "source": [
        "# Dataset First Look\n",
        "df.head()"
      ],
      "metadata": {
        "id": "LWNFOSvLl09H"
      },
      "execution_count": null,
      "outputs": []
    },
    {
      "cell_type": "markdown",
      "source": [
        "### Dataset Rows & Columns count"
      ],
      "metadata": {
        "id": "7hBIi_osiCS2"
      }
    },
    {
      "cell_type": "code",
      "source": [
        "# Dataset Rows & Columns count\n",
        "df.shape\n"
      ],
      "metadata": {
        "id": "Kllu7SJgmLij"
      },
      "execution_count": null,
      "outputs": []
    },
    {
      "cell_type": "markdown",
      "source": [
        "Our Dataset contains 3390 rows and 17 columns."
      ],
      "metadata": {
        "id": "0Puikf1tvrub"
      }
    },
    {
      "cell_type": "markdown",
      "source": [
        "### Dataset Information"
      ],
      "metadata": {
        "id": "JlHwYmJAmNHm"
      }
    },
    {
      "cell_type": "code",
      "source": [
        "# Dataset Info\n",
        "df.info()"
      ],
      "metadata": {
        "id": "e9hRXRi6meOf"
      },
      "execution_count": null,
      "outputs": []
    },
    {
      "cell_type": "markdown",
      "source": [
        "Our dataset contains data of many feautures/columns for which we have to predict whether a patient has a 10 year risk of future coronary heart disease(CHD).\n",
        "\n",
        "The following columns are:\n",
        "\n",
        "\n",
        "*   **Id** : It contains unique Id of patients from 0 to 3390.\n",
        "*   **Age** : It contains the age of patients for which we have to predict CHD.\n",
        "\n",
        "*   **Education** : It has Education of the patients 1,2,3,4.  \n",
        "*   **Sex** : It contains the gender of the patients whether the patient is Male or Female.\n",
        "\n",
        "*   **is_smoking** : This columns contains whether the patient is smoking or not. So values in it is in either YES or NO.\n",
        "*   **cigsPerDay** : It contains the quantity of cigarette the patient consumes per day. \n",
        "\n",
        "*   **BPmeds** : It contains whether the patient is taking BP Medicine or not. Here, 1 means patient is taking BP medicines and 0 means patient is not taking medicines. \n",
        "*   **pevalentStroke** : It  contains whether the patient has history of stroke or not. Here, if it is yes then it should be 1 or if no then it should be 0.\n",
        "\n",
        "*   **prevalentHyp** : It contains whether the patient has history of hypertension or not. Here, 1 denotes he has hypertension before and 0 denotes the patient doesnot have hypertension.\n",
        "*   **Diabetes** : It contains whether the patient has diabetes or not. Here, 1 means patient has diabetes and 0  means patient doesnot have diabetes.\n",
        "\n",
        "*   **totChol** : It contains the measure of the cholestrol of the patients.\n",
        "*   **sysBP** : It contains systollic Blood Pressure measure of the patients.\n",
        "\n",
        "*   **diaBP** : It contains diastolic Blood Pressure measure of the patients.\n",
        "*   **BMI** : It contains Body Mass Index of the patients.\n",
        "\n",
        "*   **heartRate** : It contains the heart rate of the patients. \n",
        "*   **glucose** : It contains the glucose level of the patients.\n",
        "\n",
        "*   **TenYearCHD** : It contains whether the patients whether a patient has a 10 year risk of future coronary heart disease(CHD).\n",
        "\n",
        "\n",
        "\n",
        "\n",
        "\n",
        "\n",
        "\n",
        "\n",
        "\n",
        "\n",
        "\n",
        "\n",
        "\n",
        "\n",
        "\n",
        "\n",
        "\n",
        "\n"
      ],
      "metadata": {
        "id": "XPvAHg8yzXvA"
      }
    },
    {
      "cell_type": "markdown",
      "source": [
        "#### Duplicate Values"
      ],
      "metadata": {
        "id": "35m5QtbWiB9F"
      }
    },
    {
      "cell_type": "code",
      "source": [
        "# Dataset Duplicate Value Count\n",
        "duplicate = df.duplicated()\n",
        "print(duplicate.value_counts())\n"
      ],
      "metadata": {
        "id": "1sLdpKYkmox0"
      },
      "execution_count": null,
      "outputs": []
    },
    {
      "cell_type": "markdown",
      "source": [
        "Here, we get result as false means our dataset doesnot contain any duplicate data."
      ],
      "metadata": {
        "id": "zpCpGeX1IHVS"
      }
    },
    {
      "cell_type": "markdown",
      "source": [
        "#### Missing Values/Null Values"
      ],
      "metadata": {
        "id": "PoPl-ycgm1ru"
      }
    },
    {
      "cell_type": "code",
      "source": [
        "# Missing Values/Null Values Count\n",
        "df.isnull().sum()"
      ],
      "metadata": {
        "id": "GgHWkxvamxVg"
      },
      "execution_count": null,
      "outputs": []
    },
    {
      "cell_type": "markdown",
      "source": [
        "There is many null values in our dataset. we can see clearly that education contains 87 null values, cigsPerDay contain 22 null values, BPMeds contain 44 null values, totChol contains 38 null values, BMI contain 14 null values, heartRate contain 1 null value and glucose contain 304 null values."
      ],
      "metadata": {
        "id": "gqfSiFNbIp_6"
      }
    },
    {
      "cell_type": "code",
      "source": [
        "# Visualizing the missing values\n",
        "plt.figure(figsize=(15, 8))\n",
        "sns.heatmap(df.isnull(), cbar=True, yticklabels=False)\n",
        "plt.xlabel(\"Column_name\", size=12, weight=\"bold\")\n",
        "plt.title(\"Missing values\",fontweight=\"bold\",size=15)\n",
        "plt.show()"
      ],
      "metadata": {
        "id": "3q5wnI3om9sJ"
      },
      "execution_count": null,
      "outputs": []
    },
    {
      "cell_type": "markdown",
      "source": [
        "From our correlation heatmap we can say that education, cigsPerDay, BPMeds, totChol, BMI,heartRate, glucose are the columns which has missing values."
      ],
      "metadata": {
        "id": "ThGL_tOdHN8K"
      }
    },
    {
      "cell_type": "markdown",
      "source": [
        "# ***Data Cleaning***"
      ],
      "metadata": {
        "id": "ZDrHUg3jHt9v"
      }
    },
    {
      "cell_type": "code",
      "source": [
        "# Copying data to preserve orignal dataset\n",
        "new_df = df.copy()"
      ],
      "metadata": {
        "id": "oswo390uHzJB"
      },
      "execution_count": null,
      "outputs": []
    },
    {
      "cell_type": "code",
      "source": [
        "# Dropping 'id' as it is not required\n",
        "new_df.drop(columns=['id'],inplace=True)"
      ],
      "metadata": {
        "id": "zEUmTDW9KWJI"
      },
      "execution_count": null,
      "outputs": []
    },
    {
      "cell_type": "code",
      "source": [
        "# Encoding the binary columns\n",
        "new_df['sex'] = np.where(new_df['sex'] == 'M',1,0)\n",
        "new_df['is_smoking'] = np.where(new_df['is_smoking'] == 'YES',1,0)"
      ],
      "metadata": {
        "id": "F0yL8Dn_K3Bn"
      },
      "execution_count": null,
      "outputs": []
    },
    {
      "cell_type": "code",
      "source": [
        "new_df.head()"
      ],
      "metadata": {
        "id": "oxMAAKn8LrGf"
      },
      "execution_count": null,
      "outputs": []
    },
    {
      "cell_type": "markdown",
      "source": [
        "\n",
        "\n",
        "*   Here, we can see we have dropped 'id' column which is not required.\n",
        "*   Here we have converted sex column where Male = '1' and Female = '0'.\n",
        "\n",
        "*   And we have converted is_smoking column where YES = '1' and NO = '0'.\n",
        "\n",
        "\n",
        "\n"
      ],
      "metadata": {
        "id": "Ln-TYTIfMFhA"
      }
    },
    {
      "cell_type": "markdown",
      "source": [
        "### **Replacing the missing values in Education**"
      ],
      "metadata": {
        "id": "c-evCxpmRI9z"
      }
    },
    {
      "cell_type": "code",
      "source": [
        "# Replacing the missing values in the Education columns with its mode\n",
        "new_df['education'] = new_df['education'].fillna(new_df['education'].mode()[0])\n"
      ],
      "metadata": {
        "id": "02DnrpusMCyc"
      },
      "execution_count": null,
      "outputs": []
    },
    {
      "cell_type": "markdown",
      "source": [
        "### **Replacing the missing values in BPMeds**"
      ],
      "metadata": {
        "id": "dRjeYYLQYTBg"
      }
    },
    {
      "cell_type": "code",
      "source": [
        "# Replacing the missing values in the BPMeds columns with its mode\n",
        "new_df['BPMeds'] = new_df['BPMeds'].fillna(new_df['BPMeds'].mode()[0])"
      ],
      "metadata": {
        "id": "8CaYob-xZIyH"
      },
      "execution_count": null,
      "outputs": []
    },
    {
      "cell_type": "markdown",
      "source": [
        "### **Replacing the missing values in cigsPerDay**"
      ],
      "metadata": {
        "id": "P1DpIE5VnXvA"
      }
    },
    {
      "cell_type": "code",
      "source": [
        "# All missing values in the cigsPerDay column\n",
        "new_df[new_df['cigsPerDay'].isna()]"
      ],
      "metadata": {
        "id": "cUCQWjpKvF_H"
      },
      "execution_count": null,
      "outputs": []
    },
    {
      "cell_type": "markdown",
      "source": [
        "From this we can say that all the missing values in cigsPerDay are smoking daily."
      ],
      "metadata": {
        "id": "SZ7jb5KYwaqO"
      }
    },
    {
      "cell_type": "code",
      "source": [
        "# distribution of no. of cigarettes per day for smokers \n",
        "plt.figure(figsize=(8,4))\n",
        "sns.distplot(new_df[new_df['is_smoking']==1]['cigsPerDay'])\n",
        "plt.axvline(new_df[new_df['is_smoking']==1]['cigsPerDay'].mean(), color='magenta', linestyle='dashed', linewidth=2)\n",
        "plt.axvline(new_df[new_df['is_smoking']==1]['cigsPerDay'].median(), color='cyan', linestyle='dashed', linewidth=2)\n",
        "plt.title('Cigarette per day  distribution')\n",
        "plt.show()"
      ],
      "metadata": {
        "id": "nApjdLp2xUQF"
      },
      "execution_count": null,
      "outputs": []
    },
    {
      "cell_type": "markdown",
      "source": [
        "From above visualization we can say that both mean and median are close to each other so, we will check outliers for proper imputting the data in the missing places."
      ],
      "metadata": {
        "id": "Ju8-v20cyGhs"
      }
    },
    {
      "cell_type": "code",
      "source": [
        "# box plot for the no. of cigarettes per day for smokers \n",
        "plt.figure(figsize=(8,4))\n",
        "sns.boxplot(new_df[new_df['is_smoking']==1]['cigsPerDay'])"
      ],
      "metadata": {
        "id": "PWzvWDSzyija"
      },
      "execution_count": null,
      "outputs": []
    },
    {
      "cell_type": "markdown",
      "source": [
        "From above visualization we can see that there are some outliers in this column so we will impute the median value in the missing places."
      ],
      "metadata": {
        "id": "WACiIvPYy7p1"
      }
    },
    {
      "cell_type": "code",
      "source": [
        "# Imputing the missing values in the cigsPerDay \n",
        "new_df['cigsPerDay'] = new_df['cigsPerDay'].fillna(new_df[new_df['is_smoking']==1]['cigsPerDay'].median())"
      ],
      "metadata": {
        "id": "MssA0O8l0W6S"
      },
      "execution_count": null,
      "outputs": []
    },
    {
      "cell_type": "markdown",
      "source": [
        "### **Replacing the missing values in totChol**"
      ],
      "metadata": {
        "id": "W2BrRAwW1oKY"
      }
    },
    {
      "cell_type": "code",
      "source": [
        "# distribution of total cholestrol of the patient \n",
        "plt.figure(figsize=(8,4))\n",
        "sns.distplot(new_df['totChol'])\n",
        "plt.axvline(new_df['totChol'].mean(), color='magenta', linestyle='dashed', linewidth=2)\n",
        "plt.axvline(new_df['totChol'].median(), color='cyan', linestyle='dashed', linewidth=2)\n",
        "plt.title('Total Cholestrol of the Patient')\n",
        "plt.show()"
      ],
      "metadata": {
        "id": "4Wgjq34R1-6i"
      },
      "execution_count": null,
      "outputs": []
    },
    {
      "cell_type": "markdown",
      "source": [
        "Now, we will check outliers in the column."
      ],
      "metadata": {
        "id": "t1w9hGs05lP0"
      }
    },
    {
      "cell_type": "code",
      "source": [
        "# box plot for total cholestrol of the patient\n",
        "plt.figure(figsize=(8,4))\n",
        "sns.boxplot(new_df['totChol'])"
      ],
      "metadata": {
        "id": "sXhu3up252gX"
      },
      "execution_count": null,
      "outputs": []
    },
    {
      "cell_type": "markdown",
      "source": [
        "Here, we can see that this totChol column contains outliers so we will impute median in the missing places."
      ],
      "metadata": {
        "id": "NMQhbe9U6i8r"
      }
    },
    {
      "cell_type": "code",
      "source": [
        "# Imputing missing values in the totChol with their medain values\n",
        "new_df['totChol'] = new_df['totChol'].fillna(new_df['totChol'].median())"
      ],
      "metadata": {
        "id": "-azTIf3n63cA"
      },
      "execution_count": null,
      "outputs": []
    },
    {
      "cell_type": "markdown",
      "source": [
        "### **Replacing the missing values in BMI**"
      ],
      "metadata": {
        "id": "x6BTo1Z67scX"
      }
    },
    {
      "cell_type": "code",
      "source": [
        "# distribution of BMI of the patient \n",
        "plt.figure(figsize=(8,4))\n",
        "sns.distplot(new_df['BMI'])\n",
        "plt.axvline(new_df['BMI'].mean(), color='magenta', linestyle='dashed', linewidth=2)\n",
        "plt.axvline(new_df['BMI'].median(), color='cyan', linestyle='dashed', linewidth=2)\n",
        "plt.title('BMI of the Patient')\n",
        "plt.show()"
      ],
      "metadata": {
        "id": "AFH_sf4H8idL"
      },
      "execution_count": null,
      "outputs": []
    },
    {
      "cell_type": "markdown",
      "source": [
        "After seeing that both mean and median are very close we will check outliers in our column."
      ],
      "metadata": {
        "id": "GAzZj1iw810b"
      }
    },
    {
      "cell_type": "code",
      "source": [
        "# box plot for BMI of the patient\n",
        "plt.figure(figsize=(8,4))\n",
        "sns.boxplot(new_df['BMI'])"
      ],
      "metadata": {
        "id": "sTKxCdI_9F_q"
      },
      "execution_count": null,
      "outputs": []
    },
    {
      "cell_type": "markdown",
      "source": [
        "From this boxplot we can say that there are lot outliers so we will impute median in the misssing places."
      ],
      "metadata": {
        "id": "qoxnS75b9SjM"
      }
    },
    {
      "cell_type": "code",
      "source": [
        "# Imputing missing values in the BMI with their medain values\n",
        "new_df['BMI'] = new_df['BMI'].fillna(new_df['BMI'].median())"
      ],
      "metadata": {
        "id": "7uWC9Epf-MGR"
      },
      "execution_count": null,
      "outputs": []
    },
    {
      "cell_type": "markdown",
      "source": [
        "### **Dropping the missing value in heartRate**"
      ],
      "metadata": {
        "id": "kR8_xDyj_E_7"
      }
    },
    {
      "cell_type": "markdown",
      "source": [
        "As heartRate contains only 1 missing value so, we can easily drop that row because it would not affect our model."
      ],
      "metadata": {
        "id": "osYBpAw6_W6P"
      }
    },
    {
      "cell_type": "code",
      "source": [
        "# Dropping the missing values from column heartRate\n",
        "new_df=new_df[new_df['heartRate'].notna()]"
      ],
      "metadata": {
        "id": "BGpY0Owu_sUr"
      },
      "execution_count": null,
      "outputs": []
    },
    {
      "cell_type": "markdown",
      "source": [
        "### **Replacing the missing values in glucose**"
      ],
      "metadata": {
        "id": "IKLzVRuQEkjf"
      }
    },
    {
      "cell_type": "code",
      "source": [
        "# distribution of glucose\n",
        "plt.figure(figsize=(8,4))\n",
        "sns.distplot(new_df['glucose'])\n",
        "plt.axvline(new_df['glucose'].mean(), color='magenta', linestyle='dashed', linewidth=2)\n",
        "plt.axvline(new_df['glucose'].median(), color='cyan', linestyle='dashed', linewidth=2)\n",
        "plt.title('Glucose distribution')\n",
        "plt.show()"
      ],
      "metadata": {
        "id": "0dNpcLcvE6al"
      },
      "execution_count": null,
      "outputs": []
    },
    {
      "cell_type": "markdown",
      "source": [
        "Mean and Median are close enough and the graph is positively skewed so we will check for outliers."
      ],
      "metadata": {
        "id": "ds4r3iFNFw1l"
      }
    },
    {
      "cell_type": "code",
      "source": [
        "# box plot for glucose\n",
        "plt.figure(figsize=(8,4))\n",
        "sns.boxplot(new_df['glucose'])"
      ],
      "metadata": {
        "id": "8MXm0HzqGPJv"
      },
      "execution_count": null,
      "outputs": []
    },
    {
      "cell_type": "markdown",
      "source": [
        "Here, glucose column contains lot of outliers so, we can impute median values in missing places but glucose column contain 304 missing values which is a great number if we will impute median value then we will get very high bias.\n",
        "\n",
        "So, to avoid this we can impute the missing values using KNN imputer."
      ],
      "metadata": {
        "id": "KNKVis0WGfZ6"
      }
    },
    {
      "cell_type": "code",
      "source": [
        "# Using KNN imputer with K=10\n",
        "imputer = KNNImputer(n_neighbors=10)\n",
        "imputed = imputer.fit_transform(new_df)\n",
        "new_df = pd.DataFrame(imputed, columns=new_df.columns)"
      ],
      "metadata": {
        "id": "yqFpUXXZIl5X"
      },
      "execution_count": null,
      "outputs": []
    },
    {
      "cell_type": "code",
      "source": [
        "# Checking our dataset after applying KNN imputer\n",
        "new_df.info()"
      ],
      "metadata": {
        "id": "AM-7iQscJucC"
      },
      "execution_count": null,
      "outputs": []
    },
    {
      "cell_type": "markdown",
      "source": [
        "Here, we can see KNN imputer has coverted every value into float so we will convert it accordingly."
      ],
      "metadata": {
        "id": "mOZomEykJ-SR"
      }
    },
    {
      "cell_type": "code",
      "source": [
        "# Changing datatypes of the following columns\n",
        "new_df = new_df.astype({'age': int, 'education':int,'sex':int,'is_smoking':int,'cigsPerDay':int,\n",
        "               'BPMeds':int,'prevalentStroke':int,'prevalentHyp':int,'diabetes':int,\n",
        "               'totChol':float,'sysBP':float,'diaBP':float,\n",
        "               'BMI':float,'heartRate':float,'glucose':float,'TenYearCHD':int})\n",
        "     "
      ],
      "metadata": {
        "id": "qqaGlqPXKUNj"
      },
      "execution_count": null,
      "outputs": []
    },
    {
      "cell_type": "code",
      "source": [
        "# Checking for missing values\n",
        "new_df.isna().sum()"
      ],
      "metadata": {
        "id": "nhv3ZOj7PHUI"
      },
      "execution_count": null,
      "outputs": []
    },
    {
      "cell_type": "markdown",
      "source": [
        "Here, all our missing values are managed and we are ready to do EDA."
      ],
      "metadata": {
        "id": "xLbvFgNIPkyK"
      }
    },
    {
      "cell_type": "markdown",
      "source": [
        "# **Exploratory Data Analysis**"
      ],
      "metadata": {
        "id": "tFCZrdLfcD6B"
      }
    },
    {
      "cell_type": "markdown",
      "source": [
        "## **Univariate Analysis**"
      ],
      "metadata": {
        "id": "2VlmP-Gf14f7"
      }
    },
    {
      "cell_type": "code",
      "source": [
        "# understanding distribution of data before imputation\n",
        "fig = plt.figure(figsize = (15,20))\n",
        "ax = fig.gca()\n",
        "new_df.hist(ax = ax)\n",
        "plt.show()"
      ],
      "metadata": {
        "id": "96ccmOnnahXD"
      },
      "execution_count": null,
      "outputs": []
    },
    {
      "cell_type": "markdown",
      "source": [
        "Here, BPMeds, prevalent stroke and diabetes are poorly imbalanced."
      ],
      "metadata": {
        "id": "y3dhRcRUgbaG"
      }
    },
    {
      "cell_type": "code",
      "source": [
        "# Categorizing different features in dependent, continous and categorical variables.\n",
        "dependent_var = ['TenYearCHD']\n",
        "continuous_var = ['age','cigsPerDay','totChol','sysBP', 'diaBP', 'BMI', 'heartRate', 'glucose']\n",
        "categorical_var = ['education', 'sex', 'is_smoking','BPMeds','prevalentStroke', 'prevalentHyp', 'diabetes']"
      ],
      "metadata": {
        "id": "PYTJl833iSIm"
      },
      "execution_count": null,
      "outputs": []
    },
    {
      "cell_type": "markdown",
      "source": [
        "## **Distribution of Dependent Variable**"
      ],
      "metadata": {
        "id": "6CC6siTejoxo"
      }
    },
    {
      "cell_type": "code",
      "source": [
        "# Distribution of dependent varaible \n",
        "plt.figure(figsize=(8,4))\n",
        "sns.countplot(df[dependent_var[0]])\n",
        "plt.xlabel(dependent_var[0])\n",
        "plt.title(dependent_var[0]+' distribution')"
      ],
      "metadata": {
        "id": "rmelY8ImjxB1"
      },
      "execution_count": null,
      "outputs": []
    },
    {
      "cell_type": "markdown",
      "source": [
        "Here, we can see TenYearCHD is poorly imbalanced."
      ],
      "metadata": {
        "id": "bkOmjK17lKva"
      }
    },
    {
      "cell_type": "markdown",
      "source": [
        "## **Distribution of the Discrete Independent Variables**"
      ],
      "metadata": {
        "id": "NPPLdMheej91"
      }
    },
    {
      "cell_type": "code",
      "source": [
        "# Analysing the distribution of categorical variables in the dataset\n",
        "for i in categorical_var:\n",
        "  plt.figure(figsize=(8,4))\n",
        "  p = sns.countplot(df[i])\n",
        "  plt.xlabel(i)\n",
        "  plt.title(i+' distribution')\n",
        "  for i in p.patches:\n",
        "    p.annotate(f'{i.get_height()}', (i.get_x() + i.get_width() / 2., i.get_height()), ha = 'center', va = 'center', xytext = (0, 10), textcoords = 'offset points')\n",
        "  plt.show()"
      ],
      "metadata": {
        "id": "mJqssQyyiShL"
      },
      "execution_count": null,
      "outputs": []
    },
    {
      "cell_type": "markdown",
      "source": [
        "From our above visualisation we got following inferences:\n",
        "\n",
        "*   Maximum education category of people is 1 followed by 2,3 and 4.\n",
        "*   There are more female patients than male.\n",
        "\n",
        "*   Almost half of the patient are smokers.\n",
        "*   Only  100 patients are taking BP Medicines.\n",
        "\n",
        "*   Only 22 patient have experienced a stroke.\n",
        "*   1069 patients have hypertension.\n",
        "\n",
        "*   87 patients have diabetes.\n",
        "\n",
        "\n",
        "\n",
        "\n",
        "\n",
        "\n",
        "\n"
      ],
      "metadata": {
        "id": "aA5t9SIviuVu"
      }
    },
    {
      "cell_type": "markdown",
      "source": [
        "## **Bivariate Analysis**"
      ],
      "metadata": {
        "id": "z_NTPRg8M9N6"
      }
    },
    {
      "cell_type": "markdown",
      "source": [
        "## **Analyzing the relationship between the Dependent Variable and the Continuous Variables**\n"
      ],
      "metadata": {
        "id": "34KdB87ZmWQz"
      }
    },
    {
      "cell_type": "code",
      "source": [
        "# Relationship between the dependent variable and continuous independent variables\n",
        "for i in continuous_var:\n",
        "  plt.figure(figsize=(8,4))\n",
        "  sns.catplot(x=dependent_var[0],y=i,data=new_df,kind='violin')\n",
        "  plt.ylabel(i)\n",
        "  plt.xlabel(dependent_var[0])\n",
        "  plt.title(dependent_var[0]+' vs '+i)\n",
        "  plt.show()\n"
      ],
      "metadata": {
        "id": "0NqHi0kVmVe5"
      },
      "execution_count": null,
      "outputs": []
    },
    {
      "cell_type": "markdown",
      "source": [
        "From this we can say that as the age increases changes of CHD increases."
      ],
      "metadata": {
        "id": "x11I7S2-p95T"
      }
    },
    {
      "cell_type": "markdown",
      "source": [
        "## **Analyzing the relationship between the Dependent Variable and the Discrete Variables**"
      ],
      "metadata": {
        "id": "xJzCwKGPrKW5"
      }
    },
    {
      "cell_type": "code",
      "source": [
        "# Analyzing the relationship between the dependent variable and categorical independent variables\n",
        "for i in categorical_var:\n",
        "  plt.figure(figsize=(8,4))\n",
        "  sns.histplot(x=i, hue=dependent_var[0], data=new_df, stat=\"count\", multiple=\"stack\")\n",
        "  plt.title('Risk of CHD by: '+i)\n",
        "  plt.show()"
      ],
      "metadata": {
        "id": "W-anrIS5sIjh"
      },
      "execution_count": null,
      "outputs": []
    },
    {
      "cell_type": "markdown",
      "source": [
        "Since this data is unevenly distributed and this graph doesnot give any conclusive inference."
      ],
      "metadata": {
        "id": "jHO0LEE4tCGU"
      }
    },
    {
      "cell_type": "code",
      "source": [
        "#stacked bar chart\n",
        "\n",
        "for i in categorical_var:\n",
        "    x_var, y_var = i, dependent_var[0]\n",
        "    plt.figure(figsize=(8,4))\n",
        "    df_grouped = new_df.groupby(x_var)[y_var].value_counts(normalize=True).unstack(y_var)*100\n",
        "    df_grouped.plot.barh(stacked=True)\n",
        "    plt.legend(\n",
        "        bbox_to_anchor=(1.05, 1),\n",
        "        loc=\"upper left\",\n",
        "        title=y_var)\n",
        "\n",
        "    plt.title(\"% of patients at the risk of CHD by: \"+i)\n",
        "    for ix, row in df_grouped.reset_index(drop=True).iterrows():\n",
        "        # print(ix, row)\n",
        "        cumulative = 0\n",
        "        for element in row:\n",
        "            if element > 0.1:\n",
        "                plt.text(\n",
        "                    cumulative + element / 2,\n",
        "                    ix,\n",
        "                    f\"{int(element)} %\",\n",
        "                    va=\"center\",\n",
        "                    ha=\"center\",\n",
        "                )\n",
        "            cumulative += element\n",
        "    plt.show()"
      ],
      "metadata": {
        "id": "1V_pH-WDujq8"
      },
      "execution_count": null,
      "outputs": []
    },
    {
      "cell_type": "markdown",
      "source": [
        "From the following graph we conclude the following inferences:\n",
        "\n",
        "*   Percentage of CHD for educdation are- 1(18%),2(11%),3(12%) and 4(14%).\n",
        "*   Male have relatively high chance of CHD(18%) than female(12%).\n",
        "\n",
        "*   Smokers have more chances of CHD(16%).\n",
        "*   Patients taking BP medicines have chances of CHD(33%).\n",
        "\n",
        "*   Patients having stroke in past have high chances of CHD(45%).\n",
        "*   Patient having hypertension are have more chances of CHD(23%).\n",
        "\n",
        "*   Patients having diabetes are more prone towards CHD(37%).\n",
        "\n",
        "\n",
        "\n",
        "\n",
        "\n",
        "\n",
        "\n",
        "\n",
        "\n"
      ],
      "metadata": {
        "id": "_AGDT7hYvxSX"
      }
    },
    {
      "cell_type": "markdown",
      "source": [
        "# **Conclusion**"
      ],
      "metadata": {
        "id": "gCX9965dhzqZ"
      }
    },
    {
      "cell_type": "markdown",
      "source": [
        "Write the conclusion here."
      ],
      "metadata": {
        "id": "Fjb1IsQkh3yE"
      }
    },
    {
      "cell_type": "markdown",
      "source": [
        "### ***Hurrah! You have successfully completed your Machine Learning Capstone Project !!!***"
      ],
      "metadata": {
        "id": "gIfDvo9L0UH2"
      }
    }
  ]
}